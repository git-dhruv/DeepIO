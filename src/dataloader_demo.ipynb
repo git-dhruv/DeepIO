{
 "cells": [
  {
   "cell_type": "code",
   "execution_count": 1,
   "metadata": {},
   "outputs": [],
   "source": [
    "from dataloader import *"
   ]
  },
  {
   "cell_type": "code",
   "execution_count": null,
   "metadata": {},
   "outputs": [],
   "source": []
  },
  {
   "cell_type": "code",
   "execution_count": 2,
   "metadata": {},
   "outputs": [
    {
     "data": {
      "text/plain": [
       "['.git',\n",
       " '.github',\n",
       " '.gitignore',\n",
       " '.gitmodules',\n",
       " 'conda_env.yml',\n",
       " 'data',\n",
       " 'dataset',\n",
       " 'init.init',\n",
       " 'readme.md',\n",
       " 'requirements.txt',\n",
       " 'src']"
      ]
     },
     "execution_count": 2,
     "metadata": {},
     "output_type": "execute_result"
    }
   ],
   "source": [
    "os.listdir(\"../\")\n"
   ]
  },
  {
   "cell_type": "code",
   "execution_count": 3,
   "metadata": {},
   "outputs": [
    {
     "name": "stderr",
     "output_type": "stream",
     "text": [
      "[dataloader.py]30::Dataloader Started\n",
      "  0%|          | 0/1 [00:00<?, ?it/s][dataloader.py]38::Loading New folder\n"
     ]
    },
    {
     "name": "stdout",
     "output_type": "stream",
     "text": [
      "[INFO]  Data folder c:\\Users\\dhruv\\Desktop\\Penn\\Sem2\\ESE650\\FinalProject\\DeepIO\\data\\clover\\yawConstant\\New folder\\rosbag already exists. Not creating.\n"
     ]
    },
    {
     "name": "stderr",
     "output_type": "stream",
     "text": [
      "100%|██████████| 1/1 [00:27<00:00, 27.54s/it]\n"
     ]
    },
    {
     "data": {
      "text/plain": [
       "(               Time  angular_velocity.x  angular_velocity.y   \n",
       " 0      1.533762e+09           -0.007151           -0.000807  \\\n",
       " 1      1.533762e+09           -0.006847            0.000199   \n",
       " 2      1.533762e+09           -0.008977           -0.000143   \n",
       " 3      1.533762e+09           -0.007013           -0.000337   \n",
       " 4      1.533762e+09           -0.007216           -0.001635   \n",
       " ...             ...                 ...                 ...   \n",
       " 25914  1.533763e+09           -0.010394           -0.000627   \n",
       " 25915  1.533763e+09           -0.007846           -0.000077   \n",
       " 25916  1.533763e+09           -0.007872            0.001136   \n",
       " 25917  1.533763e+09           -0.008824            0.000435   \n",
       " 25918  1.533763e+09           -0.008119           -0.000752   \n",
       " \n",
       "        angular_velocity.z  linear_acceleration.x  linear_acceleration.y   \n",
       " 0               -0.004281              -0.056772               0.077776  \\\n",
       " 1               -0.007395              -0.047056               0.071360   \n",
       " 2               -0.004813              -0.060845               0.092695   \n",
       " 3               -0.005334              -0.052775               0.082745   \n",
       " 4               -0.003941              -0.054402               0.069271   \n",
       " ...                   ...                    ...                    ...   \n",
       " 25914           -0.003304              -0.067194              -0.158028   \n",
       " 25915           -0.005064              -0.052804              -0.142589   \n",
       " 25916           -0.004929              -0.053668              -0.159999   \n",
       " 25917           -0.003745              -0.049609              -0.137771   \n",
       " 25918           -0.004880              -0.048405              -0.158045   \n",
       " \n",
       "        linear_acceleration.z  \n",
       " 0                  -9.752679  \n",
       " 1                  -9.727551  \n",
       " 2                  -9.764894  \n",
       " 3                  -9.754288  \n",
       " 4                  -9.750933  \n",
       " ...                      ...  \n",
       " 25914              -9.726612  \n",
       " 25915              -9.725845  \n",
       " 25916              -9.766228  \n",
       " 25917              -9.741139  \n",
       " 25918              -9.757049  \n",
       " \n",
       " [25919 rows x 7 columns],\n",
       "                Time  rpm_0  rpm_1  rpm_2  rpm_3\n",
       " 0      1.533762e+09    0.0    0.0    0.0    0.0\n",
       " 1      1.533762e+09    0.0    0.0    0.0    0.0\n",
       " 2      1.533762e+09    0.0    0.0    0.0    0.0\n",
       " 3      1.533762e+09    0.0    0.0    0.0    0.0\n",
       " 4      1.533762e+09    0.0    0.0    0.0    0.0\n",
       " ...             ...    ...    ...    ...    ...\n",
       " 72127  1.533763e+09    0.0    0.0    0.0    0.0\n",
       " 72128  1.533763e+09    0.0    0.0    0.0    0.0\n",
       " 72129  1.533763e+09    0.0    0.0    0.0    0.0\n",
       " 72130  1.533763e+09    0.0    0.0    0.0    0.0\n",
       " 72131  1.533763e+09    0.0    0.0    0.0    0.0\n",
       " \n",
       " [72132 rows x 5 columns],\n",
       "                Time  pose.position.x  pose.position.y  pose.position.z   \n",
       " 0      1.533762e+09        -3.483957         0.384584        -0.770876  \\\n",
       " 1      1.533762e+09        -3.484092         0.384638        -0.771035   \n",
       " 2      1.533762e+09        -3.484057         0.384729        -0.771159   \n",
       " 3      1.533762e+09        -3.484043         0.384642        -0.771133   \n",
       " 4      1.533762e+09        -3.483984         0.384542        -0.770958   \n",
       " ...             ...              ...              ...              ...   \n",
       " 93772  1.533763e+09        -3.508069         0.272854        -0.767960   \n",
       " 93773  1.533763e+09        -3.508138         0.272864        -0.767918   \n",
       " 93774  1.533763e+09        -3.508102         0.272816        -0.767939   \n",
       " 93775  1.533763e+09        -3.508101         0.272819        -0.767970   \n",
       " 93776  1.533763e+09        -3.508125         0.272797        -0.768012   \n",
       " \n",
       "        pose.orientation.x  pose.orientation.y  pose.orientation.z   \n",
       " 0               -0.000062            0.009564           -0.004300  \\\n",
       " 1               -0.000914            0.009194           -0.004341   \n",
       " 2               -0.001298            0.009401           -0.004191   \n",
       " 3               -0.001172            0.009438           -0.004223   \n",
       " 4               -0.000450            0.010039           -0.004201   \n",
       " ...                   ...                 ...                 ...   \n",
       " 93772            0.001282            0.027064           -0.046000   \n",
       " 93773            0.001260            0.027209           -0.046102   \n",
       " 93774            0.001216            0.027404           -0.046139   \n",
       " 93775            0.001084            0.027518           -0.046078   \n",
       " 93776            0.001082            0.027288           -0.046034   \n",
       " \n",
       "        pose.orientation.w  \n",
       " 0                0.999945  \n",
       " 1                0.999948  \n",
       " 2                0.999946  \n",
       " 3                0.999946  \n",
       " 4                0.999941  \n",
       " ...                   ...  \n",
       " 93772            0.998574  \n",
       " 93773            0.998565  \n",
       " 93774            0.998558  \n",
       " 93775            0.998558  \n",
       " 93776            0.998566  \n",
       " \n",
       " [93777 rows x 8 columns])"
      ]
     },
     "execution_count": 3,
     "metadata": {},
     "output_type": "execute_result"
    }
   ],
   "source": [
    "import matplotlib.pyplot as plt\n",
    "import numpy as np\n",
    "tmp = dataloader(\"../data/clover\")\n",
    "tmp.runPipeline()\n"
   ]
  },
  {
   "cell_type": "code",
   "execution_count": 4,
   "metadata": {},
   "outputs": [],
   "source": [
    "gyro, acc, rpm, mocap, q, t = tmp.convertDataToIndividualNumpy()"
   ]
  },
  {
   "cell_type": "code",
   "execution_count": 15,
   "metadata": {},
   "outputs": [
    {
     "data": {
      "image/png": "[encoded data removed]",
      "text/plain": [
       "<Figure size 640x480 with 1 Axes>"
      ]
     },
     "metadata": {},
     "output_type": "display_data"
    }
   ],
   "source": [
    "plt.plot(acc[0,:])\n",
    "plt.show()"
   ]
  },
  {
   "cell_type": "code",
   "execution_count": 11,
   "metadata": {},
   "outputs": [
    {
     "name": "stderr",
     "output_type": "stream",
     "text": [
      "[dataloader.py]30::Dataloader Started\n",
      "  0%|          | 0/1 [00:00<?, ?it/s][dataloader.py]38::Loading New folder\n"
     ]
    },
    {
     "name": "stdout",
     "output_type": "stream",
     "text": [
      "[INFO]  Data folder c:\\Users\\dhruv\\Desktop\\Penn\\Sem2\\ESE650\\FinalProject\\DeepIO\\data\\clover\\yawConstant\\New folder\\rosbag already exists. Not creating.\n"
     ]
    },
    {
     "name": "stderr",
     "output_type": "stream",
     "text": [
      "  0%|          | 0/1 [00:09<?, ?it/s]\n"
     ]
    },
    {
     "ename": "KeyboardInterrupt",
     "evalue": "",
     "output_type": "error",
     "traceback": [
      "\u001b[1;31m---------------------------------------------------------------------------\u001b[0m",
      "\u001b[1;31mAttributeError\u001b[0m                            Traceback (most recent call last)",
      "File \u001b[1;32mc:\\Users\\dhruv\\miniconda3\\envs\\cis_580\\lib\\site-packages\\bagpy\\bagreader.py:1037\u001b[0m, in \u001b[0;36mslotvalues\u001b[1;34m(m, slot)\u001b[0m\n\u001b[0;32m   1036\u001b[0m \u001b[39mtry\u001b[39;00m:\n\u001b[1;32m-> 1037\u001b[0m     slots \u001b[39m=\u001b[39m vals\u001b[39m.\u001b[39;49m\u001b[39m__slots__\u001b[39;49m\n\u001b[0;32m   1038\u001b[0m     varray \u001b[39m=\u001b[39m []\n",
      "\u001b[1;31mAttributeError\u001b[0m: 'tuple' object has no attribute '__slots__'",
      "\nDuring handling of the above exception, another exception occurred:\n",
      "\u001b[1;31mKeyboardInterrupt\u001b[0m                         Traceback (most recent call last)",
      "Cell \u001b[1;32mIn[11], line 3\u001b[0m\n\u001b[0;32m      1\u001b[0m \u001b[39mfrom\u001b[39;00m \u001b[39mmocapFusion\u001b[39;00m \u001b[39mimport\u001b[39;00m \u001b[39m*\u001b[39m\n\u001b[0;32m      2\u001b[0m learner \u001b[39m=\u001b[39m OnlineLearingFusion()\n\u001b[1;32m----> 3\u001b[0m learner\u001b[39m.\u001b[39;49mrunPipeline()\n",
      "File \u001b[1;32mc:\\Users\\dhruv\\Desktop\\Penn\\Sem2\\ESE650\\FinalProject\\DeepIO\\src\\mocapFusion.py:130\u001b[0m, in \u001b[0;36mOnlineLearingFusion.runPipeline\u001b[1;34m(self)\u001b[0m\n\u001b[0;32m    128\u001b[0m dataDir \u001b[39m=\u001b[39m \u001b[39mr\u001b[39m\u001b[39m'\u001b[39m\u001b[39m/Users/dhruv/Desktop/Penn/Sem2/ESE650/FinalProject/DeepIO/data/clover\u001b[39m\u001b[39m'\u001b[39m\n\u001b[0;32m    129\u001b[0m loadDataUtil \u001b[39m=\u001b[39m dataloader(dataDir)\n\u001b[1;32m--> 130\u001b[0m loadDataUtil\u001b[39m.\u001b[39;49mrunPipeline()\n\u001b[0;32m    131\u001b[0m loadDataUtil\u001b[39m.\u001b[39mhomogenizeData()\n\u001b[0;32m    132\u001b[0m gyro, acc, rpm, mocap, q, t \u001b[39m=\u001b[39m loadDataUtil\u001b[39m.\u001b[39mconvertDataToIndividualNumpy()\n",
      "File \u001b[1;32mc:\\Users\\dhruv\\Desktop\\Penn\\Sem2\\ESE650\\FinalProject\\DeepIO\\src\\dataloader.py:81\u001b[0m, in \u001b[0;36mdataloader.runPipeline\u001b[1;34m(self)\u001b[0m\n\u001b[0;32m     79\u001b[0m \u001b[39mdef\u001b[39;00m \u001b[39mrunPipeline\u001b[39m(\u001b[39mself\u001b[39m):\n\u001b[0;32m     80\u001b[0m     \u001b[39mfor\u001b[39;00m case \u001b[39min\u001b[39;00m tqdm(\u001b[39mself\u001b[39m\u001b[39m.\u001b[39mcases):\n\u001b[1;32m---> 81\u001b[0m         \u001b[39mself\u001b[39;49m\u001b[39m.\u001b[39;49mloadCase(case)\n\u001b[0;32m     82\u001b[0m     \u001b[39mreturn\u001b[39;00m \u001b[39mself\u001b[39m\u001b[39m.\u001b[39mimu_data, \u001b[39mself\u001b[39m\u001b[39m.\u001b[39mrotor_data, \u001b[39mself\u001b[39m\u001b[39m.\u001b[39mmocap_data\n",
      "File \u001b[1;32mc:\\Users\\dhruv\\Desktop\\Penn\\Sem2\\ESE650\\FinalProject\\DeepIO\\src\\dataloader.py:41\u001b[0m, in \u001b[0;36mdataloader.loadCase\u001b[1;34m(self, case)\u001b[0m\n\u001b[0;32m     39\u001b[0m folder \u001b[39m=\u001b[39m join(join(\u001b[39mself\u001b[39m\u001b[39m.\u001b[39mfolder, case), folder)\n\u001b[0;32m     40\u001b[0m bagfile \u001b[39m=\u001b[39m os\u001b[39m.\u001b[39mpath\u001b[39m.\u001b[39mjoin(folder, \u001b[39m\"\u001b[39m\u001b[39mrosbag.bag\u001b[39m\u001b[39m\"\u001b[39m)\n\u001b[1;32m---> 41\u001b[0m imu, rotor, mocap \u001b[39m=\u001b[39m \u001b[39mself\u001b[39;49m\u001b[39m.\u001b[39;49mparseBagFile(bagfile)\n\u001b[0;32m     42\u001b[0m \u001b[39mif\u001b[39;00m \u001b[39mself\u001b[39m\u001b[39m.\u001b[39mimu_data \u001b[39mis\u001b[39;00m \u001b[39mNone\u001b[39;00m:\n\u001b[0;32m     43\u001b[0m     \u001b[39mself\u001b[39m\u001b[39m.\u001b[39mimu_data \u001b[39m=\u001b[39m imu\n",
      "File \u001b[1;32mc:\\Users\\dhruv\\Desktop\\Penn\\Sem2\\ESE650\\FinalProject\\DeepIO\\src\\dataloader.py:70\u001b[0m, in \u001b[0;36mdataloader.parseBagFile\u001b[1;34m(self, file)\u001b[0m\n\u001b[0;32m     68\u001b[0m \u001b[39mfor\u001b[39;00m topic \u001b[39min\u001b[39;00m bagrdr\u001b[39m.\u001b[39mtopics:\n\u001b[0;32m     69\u001b[0m     \u001b[39mif\u001b[39;00m topic \u001b[39min\u001b[39;00m relevant_topics:\n\u001b[1;32m---> 70\u001b[0m         data \u001b[39m=\u001b[39m bagrdr\u001b[39m.\u001b[39;49mmessage_by_topic(topic)\n\u001b[0;32m     71\u001b[0m         csvfiles\u001b[39m.\u001b[39mappend(data)\n\u001b[0;32m     72\u001b[0m imu \u001b[39m=\u001b[39m pd\u001b[39m.\u001b[39mread_csv(csvfiles[\u001b[39m0\u001b[39m])\n",
      "File \u001b[1;32mc:\\Users\\dhruv\\miniconda3\\envs\\cis_580\\lib\\site-packages\\bagpy\\bagreader.py:314\u001b[0m, in \u001b[0;36mbagreader.message_by_topic\u001b[1;34m(self, topic)\u001b[0m\n\u001b[0;32m    312\u001b[0m vals\u001b[39m.\u001b[39mappend(time[i]\u001b[39m.\u001b[39msecs \u001b[39m+\u001b[39m time[i]\u001b[39m.\u001b[39mnsecs\u001b[39m*\u001b[39m\u001b[39m1e-9\u001b[39m)\n\u001b[0;32m    313\u001b[0m \u001b[39mfor\u001b[39;00m s \u001b[39min\u001b[39;00m slots:\n\u001b[1;32m--> 314\u001b[0m     v, s \u001b[39m=\u001b[39m slotvalues(m, s)\n\u001b[0;32m    315\u001b[0m     \u001b[39mif\u001b[39;00m \u001b[39misinstance\u001b[39m(v, \u001b[39mtuple\u001b[39m):\n\u001b[0;32m    316\u001b[0m         snew_array \u001b[39m=\u001b[39m [] \n",
      "File \u001b[1;32mc:\\Users\\dhruv\\miniconda3\\envs\\cis_580\\lib\\site-packages\\bagpy\\bagreader.py:1051\u001b[0m, in \u001b[0;36mslotvalues\u001b[1;34m(m, slot)\u001b[0m\n\u001b[0;32m   1048\u001b[0m             varray\u001b[39m.\u001b[39mappend(vnew)    \n\u001b[0;32m   1050\u001b[0m     \u001b[39mreturn\u001b[39;00m varray, sarray\n\u001b[1;32m-> 1051\u001b[0m \u001b[39mexcept\u001b[39;00m \u001b[39mAttributeError\u001b[39;49;00m:\n\u001b[0;32m   1052\u001b[0m     \u001b[39mreturn\u001b[39;00m vals, slot\n",
      "\u001b[1;31mKeyboardInterrupt\u001b[0m: "
     ]
    }
   ],
   "source": [
    "from mocapFusion import *\n",
    "learner = OnlineLearingFusion()\n",
    "learner.runPipeline()"
   ]
  },
  {
   "cell_type": "code",
   "execution_count": null,
   "metadata": {},
   "outputs": [],
   "source": []
  },
  {
   "cell_type": "code",
   "execution_count": null,
   "metadata": {},
   "outputs": [],
   "source": []
  },
  {
   "cell_type": "code",
   "execution_count": null,
   "metadata": {},
   "outputs": [],
   "source": []
  },
  {
   "cell_type": "code",
   "execution_count": null,
   "metadata": {},
   "outputs": [],
   "source": []
  },
  {
   "cell_type": "code",
   "execution_count": null,
   "metadata": {},
   "outputs": [],
   "source": []
  },
  {
   "cell_type": "code",
   "execution_count": null,
   "metadata": {},
   "outputs": [],
   "source": []
  },
  {
   "cell_type": "code",
   "execution_count": null,
   "metadata": {},
   "outputs": [],
   "source": []
  },
  {
   "cell_type": "code",
   "execution_count": null,
   "metadata": {},
   "outputs": [],
   "source": []
  },
  {
   "cell_type": "code",
   "execution_count": null,
   "metadata": {},
   "outputs": [],
   "source": []
  },
  {
   "cell_type": "code",
   "execution_count": null,
   "metadata": {},
   "outputs": [],
   "source": []
  },
  {
   "cell_type": "code",
   "execution_count": null,
   "metadata": {},
   "outputs": [],
   "source": []
  }
 ],
 "metadata": {
  "kernelspec": {
   "display_name": "Python 3",
   "language": "python",
   "name": "python3"
  },
  "language_info": {
   "codemirror_mode": {
    "name": "ipython",
    "version": 3
   },
   "file_extension": ".py",
   "mimetype": "text/x-python",
   "name": "python",
   "nbconvert_exporter": "python",
   "pygments_lexer": "ipython3",
   "version": "3.8.13"
  },
  "orig_nbformat": 4
 },
 "nbformat": 4,
 "nbformat_minor": 2
}
