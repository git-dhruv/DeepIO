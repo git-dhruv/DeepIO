{
 "cells": [
  {
   "cell_type": "code",
   "execution_count": 1,
   "metadata": {},
   "outputs": [],
   "source": [
    "from dataloader import *"
   ]
  },
  {
   "cell_type": "code",
   "execution_count": 2,
   "metadata": {},
   "outputs": [
    {
     "name": "stderr",
     "output_type": "stream",
     "text": [
      "[dataloader.py]26::Dataloader Started\n",
      "  0%|          | 0/1 [00:00<?, ?it/s][dataloader.py]34::Loading New folder\n"
     ]
    },
    {
     "name": "stdout",
     "output_type": "stream",
     "text": [
      "[INFO]  Data folder c:\\Users\\dhruv\\Desktop\\Penn\\Sem2\\ESE650\\FinalProject\\code\\data\\clover\\yawConstant\\New folder\\rosbag already exists. Not creating.\n"
     ]
    },
    {
     "name": "stderr",
     "output_type": "stream",
     "text": [
      "100%|██████████| 1/1 [00:09<00:00,  9.90s/it]\n"
     ]
    }
   ],
   "source": [
    "import matplotlib.pyplot as plt\n",
    "import numpy as np\n",
    "tmp = dataloader(\"../data/clover\")\n",
    "imu, rotor, mocap = tmp.runPipeline()\n",
    "    "
   ]
  },
  {
   "cell_type": "code",
   "execution_count": 3,
   "metadata": {},
   "outputs": [],
   "source": [
    "x,y,z = mocap['pose.position.x'].to_numpy(),mocap['pose.position.y'].to_numpy(),mocap['pose.position.z'].to_numpy()\n"
   ]
  },
  {
   "cell_type": "code",
   "execution_count": 5,
   "metadata": {},
   "outputs": [
    {
     "name": "stdout",
     "output_type": "stream",
     "text": [
      "-1.7363359928131104\n",
      "\n"
     ]
    }
   ],
   "source": [
    "print(mocap['Time'][0]-imu['Time'][0])\n",
    "print()\n",
    "# imu['linear_acceleration.x']"
   ]
  },
  {
   "cell_type": "code",
   "execution_count": 4,
   "metadata": {},
   "outputs": [],
   "source": [
    "from ahrs.filters import Madgwick, EKF\n",
    "gyrox,gyroy,gyroz = imu['angular_velocity.x'].to_numpy(),imu['angular_velocity.y'].to_numpy(),imu['angular_velocity.z'].to_numpy()\n",
    "accx,accy,accz = imu['linear_acceleration.x'].to_numpy(),imu['linear_acceleration.y'].to_numpy(),imu['linear_acceleration.z'].to_numpy()\n",
    "# madgwick = Madgwick(gyr=, acc=acc_data)     "
   ]
  },
  {
   "cell_type": "code",
   "execution_count": 5,
   "metadata": {},
   "outputs": [],
   "source": [
    "gyro = np.column_stack((np.column_stack((gyrox.reshape(-1,1),gyroy.reshape(-1,1))),gyroz.reshape(-1,1)))\n",
    "acc = np.column_stack((np.column_stack((accx.reshape(-1,1),accy.reshape(-1,1))),accz.reshape(-1,1)))\n",
    "mag = np.zeros_like(acc)\n",
    "# mag[:,0] += 254.3\n",
    "mag[:,1] += 1\n",
    "# mag[:,2] += 558.6\n"
   ]
  },
  {
   "cell_type": "code",
   "execution_count": 8,
   "metadata": {},
   "outputs": [],
   "source": [
    "madgwick = Madgwick(gyr=gyro, acc=acc, gain_imu=1e-100000)     "
   ]
  },
  {
   "cell_type": "code",
   "execution_count": 9,
   "metadata": {},
   "outputs": [],
   "source": [
    "from scipy.spatial.transform import Rotation as R\n",
    "R_w_ned = np.array([\n",
    "    [1., 0., 0.],\n",
    "    [0., -1., 0.],\n",
    "    [0., 0., -1.]])\n",
    "t_w_ned = np.array([0., 0., 0.])\n",
    "\n",
    "# rotate from body to imu frame\n",
    "R_b_i = np.array([\n",
    "    [0., -1., 0.],\n",
    "    [1., 0., 0.],\n",
    "    [0., 0., 1.]])"
   ]
  },
  {
   "cell_type": "code",
   "execution_count": 10,
   "metadata": {},
   "outputs": [
    {
     "ename": "NameError",
     "evalue": "name 'self' is not defined",
     "output_type": "error",
     "traceback": [
      "\u001b[1;31m---------------------------------------------------------------------------\u001b[0m",
      "\u001b[1;31mNameError\u001b[0m                                 Traceback (most recent call last)",
      "Cell \u001b[1;32mIn[10], line 12\u001b[0m\n\u001b[0;32m     10\u001b[0m Smod \u001b[39m=\u001b[39m np\u001b[39m.\u001b[39meye(\u001b[39m3\u001b[39m)\n\u001b[0;32m     11\u001b[0m Smod[\u001b[39m-\u001b[39m\u001b[39m1\u001b[39m,\u001b[39m-\u001b[39m\u001b[39m1\u001b[39m] \u001b[39m=\u001b[39m np\u001b[39m.\u001b[39mlinalg\u001b[39m.\u001b[39mdet(U\u001b[39m@Vt\u001b[39m)\n\u001b[1;32m---> 12\u001b[0m \u001b[39mself\u001b[39;49m\u001b[39m.\u001b[39mcubeDynamicBase[block,\u001b[39m0\u001b[39m:\u001b[39m3\u001b[39m,\u001b[39m0\u001b[39m:\u001b[39m3\u001b[39m] \u001b[39m=\u001b[39m U\u001b[39m@Smod\u001b[39m\u001b[39m@Vt\u001b[39m\n\u001b[0;32m     13\u001b[0m ang \u001b[39m=\u001b[39m R\u001b[39m.\u001b[39mfrom_matrix(ang)\n\u001b[0;32m     14\u001b[0m ang \u001b[39m=\u001b[39m ang\u001b[39m.\u001b[39mas_rotvec(degrees\u001b[39m=\u001b[39m\u001b[39m1\u001b[39m)[\u001b[39m0\u001b[39m]\n",
      "\u001b[1;31mNameError\u001b[0m: name 'self' is not defined"
     ]
    }
   ],
   "source": []
  },
  {
   "cell_type": "code",
   "execution_count": null,
   "metadata": {},
   "outputs": [],
   "source": []
  },
  {
   "cell_type": "code",
   "execution_count": 10,
   "metadata": {},
   "outputs": [
    {
     "name": "stdout",
     "output_type": "stream",
     "text": [
      "[[3.88195173e+03]\n",
      " [8.52834527e+00]\n",
      " [2.02919957e+05]]\n",
      "[-3.484  0.385 -0.771  0.     0.     0.    -0.     0.01  -0.004  1.\n",
      "  0.     0.     0.   ]\n",
      "[ 9.951000e+00  4.140000e-01  7.015120e+02  3.881952e+03  0.000000e+00\n",
      "  0.000000e+00  0.000000e+00  1.000000e-02 -4.000000e-03  1.000000e+00\n",
      "  0.000000e+00  0.000000e+00  0.000000e+00]\n",
      "0.0034608840942382812\n"
     ]
    }
   ],
   "source": [
    "from dynamicsSim import *\n",
    "dyn = dynamics()\n",
    "dt = rotor['Time'][1]-rotor['Time'][0]\n",
    "i = 0\n",
    "state = [x[0],y[0],z[0],0,0,0,mocap['pose.orientation.x'][i],mocap['pose.orientation.y'][i],mocap['pose.orientation.z'][i],mocap['pose.orientation.w'][i],0,0,0]\n",
    "state2 = dyn.propogateDynamics(np.array(state),np.array([rotor['rpm_0'],rotor['rpm_1'],rotor['rpm_2'],rotor['rpm_3']]),dt)\n",
    "print(np.round(state,3))\n",
    "print(np.round(state2,3))\n",
    "print(dt)"
   ]
  }
 ],
 "metadata": {
  "kernelspec": {
   "display_name": "Python 3",
   "language": "python",
   "name": "python3"
  },
  "language_info": {
   "codemirror_mode": {
    "name": "ipython",
    "version": 3
   },
   "file_extension": ".py",
   "mimetype": "text/x-python",
   "name": "python",
   "nbconvert_exporter": "python",
   "pygments_lexer": "ipython3",
   "version": "3.8.13"
  },
  "orig_nbformat": 4
 },
 "nbformat": 4,
 "nbformat_minor": 2
}
