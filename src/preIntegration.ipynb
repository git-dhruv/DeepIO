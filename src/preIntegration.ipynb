{
 "cells": [
  {
   "cell_type": "code",
   "execution_count": 1,
   "metadata": {},
   "outputs": [],
   "source": [
    "import numpy as np\n",
    "import matplotlib.pyplot as plt\n",
    "from dataloader import *\n",
    "from dynamicsSim import *\n",
    "from numpy import sin, cos\n",
    "\n",
    "import tqdm\n",
    "import pypose"
   ]
  },
  {
   "cell_type": "code",
   "execution_count": 2,
   "metadata": {},
   "outputs": [
    {
     "name": "stderr",
     "output_type": "stream",
     "text": [
      "  0%|          | 0/1 [00:00<?, ?it/s]"
     ]
    },
    {
     "name": "stdout",
     "output_type": "stream",
     "text": [
      "[INFO]  Data folder C:\\Users\\dhruv\\Desktop\\Penn\\Sem2\\ESE650\\FinalProject\\DeepIO\\data\\clover\\yawConstant\\New folder\\rosbag already exists. Not creating.\n"
     ]
    },
    {
     "name": "stderr",
     "output_type": "stream",
     "text": [
      "100%|██████████| 1/1 [00:08<00:00,  8.98s/it]\n"
     ]
    }
   ],
   "source": [
    "dataDir = r'C:\\Users\\dhruv\\Desktop\\Penn\\Sem2\\ESE650\\FinalProject\\DeepIO\\data\\clover'\n",
    "loadDataUtil = dataloader(dataDir)\n",
    "loadDataUtil.runPipeline()\n",
    "loadDataUtil.homogenizeData()\n",
    "gyro, acc, rpm, mocap, q, t = loadDataUtil.convertDataToIndividualNumpy()\n",
    "\n",
    "##--Rotate the Motion Capture to IMU frame from Body Frame --#\n",
    "R_imutoBody= np.array([[0, -1, 0],\n",
    "                    [1, 0, 0],\n",
    "                    [0,0,1]])\n"
   ]
  },
  {
   "cell_type": "code",
   "execution_count": 3,
   "metadata": {},
   "outputs": [
    {
     "ename": "",
     "evalue": "",
     "output_type": "error",
     "traceback": [
      "\u001b[1;31mCanceled future for execute_request message before replies were done"
     ]
    },
    {
     "ename": "",
     "evalue": "",
     "output_type": "error",
     "traceback": [
      "\u001b[1;31mThe Kernel crashed while executing code in the the current cell or a previous cell. Please review the code in the cell(s) to identify a possible cause of the failure. Click <a href='https://aka.ms/vscodeJupyterKernelCrash'>here</a> for more info. View Jupyter <a href='command:jupyter.viewOutput'>log</a> for further details."
     ]
    }
   ],
   "source": [
    "import torch\n",
    "mocap = R_imutoBody@mocap\n",
    "pos =torch.tensor(mocap[:,0]).float()    \n",
    "r = pypose.mat2SO3(Rotation.from_quat([q[:,0]]).as_matrix()).float()\n",
    "v = torch.zeros(3).float()\n",
    "dt = torch.tensor([0.002]).float() \n",
    "integrator = pypose.module.IMUPreintegrator(pos, r, v,reset=False)\n"
   ]
  },
  {
   "cell_type": "code",
   "execution_count": null,
   "metadata": {},
   "outputs": [],
   "source": [
    "x = []\n",
    "for i in range(1000):\n",
    "    states = integrator(dt.float(), torch.tensor(gyro[:,0].flatten()).float(), torch.tensor(acc[:,0].flatten()).float(), r)\n",
    "    x.append(states['pos'][0].numpy())\n"
   ]
  },
  {
   "cell_type": "code",
   "execution_count": null,
   "metadata": {},
   "outputs": [],
   "source": [
    "x\n",
    "# plt.plot(x)\n",
    "# plt.show()"
   ]
  }
 ],
 "metadata": {
  "kernelspec": {
   "display_name": "ese650",
   "language": "python",
   "name": "python3"
  },
  "language_info": {
   "codemirror_mode": {
    "name": "ipython",
    "version": 3
   },
   "file_extension": ".py",
   "mimetype": "text/x-python",
   "name": "python",
   "nbconvert_exporter": "python",
   "pygments_lexer": "ipython3",
   "version": "3.11.2"
  },
  "orig_nbformat": 4
 },
 "nbformat": 4,
 "nbformat_minor": 2
}
